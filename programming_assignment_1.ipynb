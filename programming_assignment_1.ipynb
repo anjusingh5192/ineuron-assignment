{
  "nbformat": 4,
  "nbformat_minor": 0,
  "metadata": {
    "colab": {
      "provenance": [],
      "collapsed_sections": []
    },
    "kernelspec": {
      "name": "python3",
      "display_name": "Python 3"
    },
    "language_info": {
      "name": "python"
    }
  },
  "cells": [
    {
      "cell_type": "code",
      "execution_count": null,
      "metadata": {
        "colab": {
          "base_uri": "https://localhost:8080/"
        },
        "id": "Lzl9vO_flcrv",
        "outputId": "c5cde970-ed13-4433-f4cc-6e74d0de8970"
      },
      "outputs": [
        {
          "output_type": "stream",
          "name": "stdout",
          "text": [
            "hello python\n"
          ]
        }
      ],
      "source": [
        "print(\"hello python\")"
      ]
    },
    {
      "cell_type": "markdown",
      "source": [
        "2.\tWrite a Python program to do arithmetical operations addition and division.?"
      ],
      "metadata": {
        "id": "JxDy4Cekv5Jl"
      }
    },
    {
      "cell_type": "code",
      "source": [
        "num1 = int(input(\"enter the first number\"))\n",
        "num2 = int(input(\"enter the 2nd number\"))\n",
        "print(f\"sum of {num1} and {num2}is\", {num1 + num2})\n",
        "print(f\" {num1}/{num2} is \", {num1/num2})"
      ],
      "metadata": {
        "colab": {
          "base_uri": "https://localhost:8080/"
        },
        "id": "iAqxhr0Dm2kV",
        "outputId": "5987c0d4-8a09-4a03-b1bf-536b3b9a138e"
      },
      "execution_count": null,
      "outputs": [
        {
          "output_type": "stream",
          "name": "stdout",
          "text": [
            "enter the first number10\n",
            "enter the 2nd number5\n",
            "sum of 10 and 5is {15}\n",
            " 10/5 is  {2.0}\n"
          ]
        }
      ]
    },
    {
      "cell_type": "markdown",
      "source": [
        "3.\tWrite a Python program to find the area of a triangle?"
      ],
      "metadata": {
        "id": "ZLKnvihwv8cU"
      }
    },
    {
      "cell_type": "code",
      "source": [
        "height= int(input(\"enter the height of triangle\"))\n",
        "base= int(input(\"enter the base of triangle\"))\n",
        "print(\"Area of triangle is \", {(height*base)/2})"
      ],
      "metadata": {
        "colab": {
          "base_uri": "https://localhost:8080/"
        },
        "id": "CzFS5jP0wEHi",
        "outputId": "253edc30-7e99-429c-c5f7-42a6f3de0db8"
      },
      "execution_count": null,
      "outputs": [
        {
          "output_type": "stream",
          "name": "stdout",
          "text": [
            "enter the height of triangle10\n",
            "enter the base of triangle5\n",
            "Area of triangle is  {25.0}\n"
          ]
        }
      ]
    },
    {
      "cell_type": "markdown",
      "source": [
        "4.\tWrite a Python program to swap two variables?"
      ],
      "metadata": {
        "id": "_AZMBn8aD9p5"
      }
    },
    {
      "cell_type": "code",
      "source": [
        "a=8\n",
        "b=10\n",
        "a,b= b,a\n",
        "print(\"value of a and b is \", a,b)\n"
      ],
      "metadata": {
        "colab": {
          "base_uri": "https://localhost:8080/"
        },
        "id": "HymjgxgkEHzk",
        "outputId": "89bd02ba-4606-4559-f1bb-2f4269998dbb"
      },
      "execution_count": null,
      "outputs": [
        {
          "output_type": "stream",
          "name": "stdout",
          "text": [
            "value of a and b is  10 8\n"
          ]
        }
      ]
    },
    {
      "cell_type": "markdown",
      "source": [
        "5.\tWrite a Python program to generate a random number?"
      ],
      "metadata": {
        "id": "Eb94RktzGUGw"
      }
    },
    {
      "cell_type": "code",
      "source": [
        "import random\n",
        "print(random.randint(0,100))"
      ],
      "metadata": {
        "colab": {
          "base_uri": "https://localhost:8080/"
        },
        "id": "7nUBZJGnGV6E",
        "outputId": "e3f5d2b3-747d-4cf7-bfb3-6b1278484bc2"
      },
      "execution_count": null,
      "outputs": [
        {
          "output_type": "stream",
          "name": "stdout",
          "text": [
            "23\n"
          ]
        }
      ]
    }
  ]
}