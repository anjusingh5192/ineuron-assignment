{
  "nbformat": 4,
  "nbformat_minor": 0,
  "metadata": {
    "colab": {
      "provenance": [],
      "collapsed_sections": []
    },
    "kernelspec": {
      "name": "python3",
      "display_name": "Python 3"
    },
    "language_info": {
      "name": "python"
    }
  },
  "cells": [
    {
      "cell_type": "markdown",
      "source": [
        "1.\tWrite a Python Program to Find LCM?"
      ],
      "metadata": {
        "id": "97aeGknRLB-l"
      }
    },
    {
      "cell_type": "code",
      "source": [
        "num1= int(input(\"enter the first number\"))\n",
        "num2= int(input(\"enter the 2nd number\"))\n",
        "if(num1<num2):\n",
        "  min=num1\n",
        "else:\n",
        "  min=num2\n",
        "gcd=1\n",
        "for i in range(1, min+1):\n",
        "  if(num1%i==0 and num2%i==0):\n",
        "    gcd= i\n",
        "print(f\"GCD is {gcd}\")\n",
        "lcm = (num1*num2)/gcd\n",
        "print(f\"lcm is {lcm}\")"
      ],
      "metadata": {
        "colab": {
          "base_uri": "https://localhost:8080/"
        },
        "id": "VxXVIxYSLFl3",
        "outputId": "474c98e2-ef18-4c56-9d4c-e3eacc9ea6c7"
      },
      "execution_count": null,
      "outputs": [
        {
          "output_type": "stream",
          "name": "stdout",
          "text": [
            "enter the first number10\n",
            "enter the 2nd number3\n",
            "GCD is 1\n",
            "lcm is 30.0\n"
          ]
        }
      ]
    },
    {
      "cell_type": "markdown",
      "source": [],
      "metadata": {
        "id": "aqIfNjN8Xf5S"
      }
    },
    {
      "cell_type": "markdown",
      "source": [
        "3.\tWrite a Python Program to Convert Decimal to Binary, Octal and Hexadecimal?"
      ],
      "metadata": {
        "id": "lwmE_BLIXf_h"
      }
    },
    {
      "cell_type": "code",
      "source": [
        "dec = 34\n",
        "\n",
        "print(\"The decimal value of\", dec, \"is:\")\n",
        "print(bin(dec), \"in binary.\")\n",
        "print(oct(dec), \"in octal.\")\n",
        "print(hex(dec), \"in hexadecimal.\")"
      ],
      "metadata": {
        "colab": {
          "base_uri": "https://localhost:8080/"
        },
        "id": "DdKF0udiig7s",
        "outputId": "0451e7ac-e9f6-4d29-d84f-d9fa6c6352de"
      },
      "execution_count": null,
      "outputs": [
        {
          "output_type": "stream",
          "name": "stdout",
          "text": [
            "The decimal value of 34 is:\n",
            "0b100010 in binary.\n",
            "0o42 in octal.\n",
            "0x22 in hexadecimal.\n"
          ]
        }
      ]
    },
    {
      "cell_type": "code",
      "source": [
        "\n",
        "decimal= int(input(\"enter decimal number\"))\n",
        "def decimal_binary(decimal):\n",
        "  if(decimal>0):\n",
        "    decimal_binary(decimal//2)\n",
        "    print(decimal%2, end= \" \")\n",
        "    \n",
        "\"octal number\"\n",
        "def decimal_octal(decimal):\n",
        "  if(decimal>0):\n",
        "    decimal_octal(decimal//8)\n",
        "    print(decimal%8, end=\" \")\n",
        "\n",
        "    \"hexa decimal number\"\n",
        "def decimal_hexa(decimal):\n",
        "  if(decimal>0):\n",
        "    decimal_hexa(decimal//16)\n",
        "    print(decimal%16, end=\" \")\n",
        "\n",
        "decimal_binary(decimal)\n",
        "print(end=\"\\n\")\n",
        "decimal_octal(decimal)\n",
        "print(end=\"\\n\")\n",
        "decimal_hexa(decimal)\n"
      ],
      "metadata": {
        "colab": {
          "base_uri": "https://localhost:8080/"
        },
        "id": "Z3N_juB5ZJav",
        "outputId": "a18a0652-2f28-420f-968b-2467feac3289"
      },
      "execution_count": null,
      "outputs": [
        {
          "output_type": "stream",
          "name": "stdout",
          "text": [
            "enter decimal number67\n",
            "1 0 0 0 0 1 1 \n",
            "1 0 3 \n",
            "4 3 "
          ]
        }
      ]
    },
    {
      "cell_type": "markdown",
      "source": [
        "there is one problem, how we chnage decimal point like (4.5) in binary , octal and hexa"
      ],
      "metadata": {
        "id": "USN0dQByAFPz"
      }
    },
    {
      "cell_type": "markdown",
      "source": [
        "4.\tWrite a Python Program To Find ASCII value of a character?"
      ],
      "metadata": {
        "id": "5Av1UwJzkksd"
      }
    },
    {
      "cell_type": "code",
      "source": [
        "char = input(\"enter the number \")\n",
        "asc= ord(char)\n",
        "print(asc)"
      ],
      "metadata": {
        "colab": {
          "base_uri": "https://localhost:8080/"
        },
        "id": "qmUJgRlBklyF",
        "outputId": "880b61d2-9d18-4fa0-eb79-d54c432dc553"
      },
      "execution_count": 9,
      "outputs": [
        {
          "output_type": "stream",
          "name": "stdout",
          "text": [
            "enter the number a\n",
            "97\n"
          ]
        }
      ]
    },
    {
      "cell_type": "markdown",
      "source": [
        "5.\tWrite a Python Program to Make a Simple Calculator with 4 basic mathematical operations?"
      ],
      "metadata": {
        "id": "IosdeUBHlVzz"
      }
    },
    {
      "cell_type": "code",
      "source": [
        "def add(x,y):\n",
        "  z= x+y;\n",
        "  print(f\"sum of {x} and {y} is \", z)\n",
        "\n",
        "def sub(x,y):\n",
        "  z= x-y;\n",
        "  print(f\"subtraction of {x} and {y} is \", z)\n",
        "\n",
        "def div(x,y):\n",
        "  z= x//y;\n",
        "  print(f\" {x}/{y} is \", z)\n",
        "\n",
        "def mul(x,y):\n",
        "  z= x*y;\n",
        "  print(f\"mulitiplication of {x} and {y} is \", z)\n",
        "\n",
        "print(\"menu\")\n",
        "print(\"1. addtion\")\n",
        "print(\"2. subtraction\")\n",
        "print(\"3. Division\")\n",
        "print(\"4. Multuplication\")\n",
        "\n",
        "choice= int(input(f\"enter your choice 1/2/3/4\"))\n",
        "if(choice in (1,2,3,4)):\n",
        "  num1= float(input(\"enter the first number\"))\n",
        "  num2= float(input(\"enter the 2nd number\"))\n",
        "else:\n",
        "  print(\"please enter valid choice\")\n",
        "if(choice==1):\n",
        "  add(num1, num2)\n",
        "\n",
        "if(choice==2): \n",
        "  sub(num1, num2)\n",
        "\n",
        "if(choice==3):\n",
        "  div(num1, num2)\n",
        "\n",
        "if(choice==4):\n",
        "  mul(num1, num2)\n",
        "\n",
        "\n"
      ],
      "metadata": {
        "id": "Fyt1pww_mHwk",
        "colab": {
          "base_uri": "https://localhost:8080/"
        },
        "outputId": "c95c2d00-372f-4aa6-90b5-5afd555d9ddc"
      },
      "execution_count": 8,
      "outputs": [
        {
          "output_type": "stream",
          "name": "stdout",
          "text": [
            "menu\n",
            "1. addtion\n",
            "2. subtraction\n",
            "3. Division\n",
            "4. Multuplication\n",
            "enter your choice 1/2/3/43\n",
            "enter the first number34\n",
            "enter the 2nd number23\n",
            " 34.0/23.0 is  1.0\n"
          ]
        }
      ]
    },
    {
      "cell_type": "markdown",
      "source": [
        "Simple calculator which can operate on more than two numbers\n"
      ],
      "metadata": {
        "id": "6lMXYqkbE-_g"
      }
    },
    {
      "cell_type": "code",
      "source": [],
      "metadata": {
        "id": "l6TLy4DMFGqr"
      },
      "execution_count": null,
      "outputs": []
    },
    {
      "cell_type": "code",
      "source": [
        "\n",
        "print(\"menu\")\n",
        "print(\"1. addtion\")\n",
        "print(\"2. subtraction\")\n",
        "print(\"3. Division\")\n",
        "print(\"4. Multuplication\")\n",
        "choice=int(input(f\"enter the choice   1/2/3/4\"))\n",
        "x=[]\n",
        "count= int(input(\"how many numbers\"))\n",
        "sum_sub=0\n",
        "div_mul=1\n",
        "for i in range(count):\n",
        "  number= float(input(\"enter the number\"))\n",
        "  x.append(number)\n",
        "print(x)\n",
        "if choice==1:\n",
        "  for i in range(count):\n",
        "    sum_sub= sum_sub + x[i]\n",
        "elif choice==2:\n",
        "  for i in range(count):\n",
        "    sum_sub= sum_sub-x[i]\n",
        "elif choice==3:\n",
        "  for i in range(count):\n",
        "    div_mul= div_mul/x[i]\n",
        "elif choice==4:\n",
        "  for i in range(count):\n",
        "   div_mul= div_mul * x[i]\n",
        "else:\n",
        "  print('enter correct choice')\n",
        "if choice ==1 or choice==2:\n",
        "  print(sum_sub)\n",
        "else:\n",
        "  print(div_mul)\n",
        "\n"
      ],
      "metadata": {
        "colab": {
          "base_uri": "https://localhost:8080/"
        },
        "id": "dquZoImMFGwT",
        "outputId": "938e3a4b-e143-404a-fc00-afc1245e30e4"
      },
      "execution_count": 20,
      "outputs": [
        {
          "output_type": "stream",
          "name": "stdout",
          "text": [
            "menu\n",
            "1. addtion\n",
            "2. subtraction\n",
            "3. Division\n",
            "4. Multuplication\n",
            "enter the choice 1/2/3/42\n",
            "how many numbers4\n",
            "enter the number3\n",
            "enter the number4\n",
            "enter the number5\n",
            "enter the number6\n",
            "[3.0, 4.0, 5.0, 6.0]\n",
            "-18.0\n"
          ]
        }
      ]
    }
  ]
}