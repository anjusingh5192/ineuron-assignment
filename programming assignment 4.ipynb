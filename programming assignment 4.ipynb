{
  "nbformat": 4,
  "nbformat_minor": 0,
  "metadata": {
    "colab": {
      "provenance": [],
      "collapsed_sections": []
    },
    "kernelspec": {
      "name": "python3",
      "display_name": "Python 3"
    },
    "language_info": {
      "name": "python"
    }
  },
  "cells": [
    {
      "cell_type": "markdown",
      "source": [
        "1.\tWrite a Python Program to Find the Factorial of a Number?"
      ],
      "metadata": {
        "id": "PI2HtpPGCREO"
      }
    },
    {
      "cell_type": "code",
      "source": [
        "num= int(input(\"enter the numer\"))\n",
        "fact=1\n",
        "def factorial(num1):\n",
        "  fact=1\n",
        "  if(num1<0):\n",
        "    print(\"factorial of -ve number is not possible\")\n",
        "  elif(num1==0 or num1==1):\n",
        "    print(f\"factorial of {num1} is 1\")\n",
        "  else:\n",
        "    for i in range(1, num1+1):\n",
        "     fact = fact*i\n",
        "  print(\"factorial is \", fact)\n",
        "factorial(num)"
      ],
      "metadata": {
        "colab": {
          "base_uri": "https://localhost:8080/"
        },
        "id": "lVNYICoQCTVV",
        "outputId": "c8a7ccc8-62f2-4d03-e67f-6698820d2431"
      },
      "execution_count": null,
      "outputs": [
        {
          "output_type": "stream",
          "name": "stdout",
          "text": [
            "enter the numer6\n",
            "factorial is  720\n"
          ]
        }
      ]
    },
    {
      "cell_type": "markdown",
      "source": [
        "2.\tWrite a Python Program to Display the multiplication Table?"
      ],
      "metadata": {
        "id": "SfqUBqnMHAcT"
      }
    },
    {
      "cell_type": "code",
      "source": [
        "num1= int(input(\"enter the range upto you want table\"))\n",
        "num2= num1\n",
        "list_to_append = []\n",
        "list_for_matrix=[]\n",
        "for i in range(1,num1+1):\n",
        "  for j in range(1, num2+1):\n",
        "   print(i*j, end='\\t')\n",
        "  print(\" \")"
      ],
      "metadata": {
        "colab": {
          "base_uri": "https://localhost:8080/"
        },
        "id": "6NpRR0BFxm3x",
        "outputId": "3221a51f-201b-46ac-f5e8-bb92661810fa"
      },
      "execution_count": null,
      "outputs": [
        {
          "output_type": "stream",
          "name": "stdout",
          "text": [
            "enter the range upto you want table10\n",
            "1\t2\t3\t4\t5\t6\t7\t8\t9\t10\t \n",
            "2\t4\t6\t8\t10\t12\t14\t16\t18\t20\t \n",
            "3\t6\t9\t12\t15\t18\t21\t24\t27\t30\t \n",
            "4\t8\t12\t16\t20\t24\t28\t32\t36\t40\t \n",
            "5\t10\t15\t20\t25\t30\t35\t40\t45\t50\t \n",
            "6\t12\t18\t24\t30\t36\t42\t48\t54\t60\t \n",
            "7\t14\t21\t28\t35\t42\t49\t56\t63\t70\t \n",
            "8\t16\t24\t32\t40\t48\t56\t64\t72\t80\t \n",
            "9\t18\t27\t36\t45\t54\t63\t72\t81\t90\t \n",
            "10\t20\t30\t40\t50\t60\t70\t80\t90\t100\t \n"
          ]
        }
      ]
    },
    {
      "cell_type": "markdown",
      "source": [
        "3.\tWrite a Python Program to Print the Fibonacci sequence?"
      ],
      "metadata": {
        "id": "QO8h1pjABPY7"
      }
    },
    {
      "cell_type": "code",
      "source": [
        "num= int(input(\"enter a valid postive range\"))\n",
        "def fib(num1):\n",
        "  a=0\n",
        "  b=1\n",
        "  if(num1==1):\n",
        "    print(a)\n",
        "  else:\n",
        "    print(a)\n",
        "    print(b)\n",
        "    for i in range(2, num1):\n",
        "      c= a+b;\n",
        "      a=b\n",
        "      b=c\n",
        "      print(c)\n",
        "fib(num(\"ent\"))\n"
      ],
      "metadata": {
        "colab": {
          "base_uri": "https://localhost:8080/"
        },
        "id": "IYHT3wOBBZxe",
        "outputId": "5fafa21c-fcc2-4e72-99dc-1cc0c64a0c52"
      },
      "execution_count": null,
      "outputs": [
        {
          "output_type": "stream",
          "name": "stdout",
          "text": [
            "enter a valid postive range5\n",
            "0\n",
            "1\n",
            "1\n",
            "2\n",
            "3\n"
          ]
        }
      ]
    },
    {
      "cell_type": "markdown",
      "source": [
        "4.\tWrite a Python Program to Check Armstrong Number?\n",
        "ans. a number is armstrong which is equal to the sum of cube of its digits"
      ],
      "metadata": {
        "id": "fORDNx46D5LI"
      }
    },
    {
      "cell_type": "code",
      "source": [
        "number= int(input(\"enter the number\"))\n",
        "sum=0\n",
        "num=number\n",
        "while(num>0):\n",
        "  r= num%10\n",
        "  sum = sum+(r**3) \n",
        "  num = num//10\n",
        "if(sum==number):\n",
        "  print(f\" {number} is a armstrong number\")\n",
        "else:\n",
        "  print(f\" {number} is not armstrong number\")"
      ],
      "metadata": {
        "colab": {
          "base_uri": "https://localhost:8080/"
        },
        "id": "FtcnaGfnErnc",
        "outputId": "740e06e6-007d-4a96-d46d-9afce1e0ab5f"
      },
      "execution_count": null,
      "outputs": [
        {
          "output_type": "stream",
          "name": "stdout",
          "text": [
            "enter the number371\n",
            " 371 is a armstrong number\n"
          ]
        }
      ]
    },
    {
      "cell_type": "markdown",
      "source": [
        "6.\tWrite a Python Program to Find the Sum of Natural Numbers?"
      ],
      "metadata": {
        "id": "rOpDsOloIR3C"
      }
    },
    {
      "cell_type": "code",
      "source": [
        "num= int(input(\"enter the range of natural number\"))\n",
        "sum=0\n",
        "for i in range(1, num+1):\n",
        "  sum= sum +i\n",
        "print(f\" sum of {num} natural numbers is \", sum)"
      ],
      "metadata": {
        "colab": {
          "base_uri": "https://localhost:8080/"
        },
        "id": "oXHmzH0-IU7m",
        "outputId": "d7fc342b-715e-4273-bbfc-9965acbe7230"
      },
      "execution_count": null,
      "outputs": [
        {
          "output_type": "stream",
          "name": "stdout",
          "text": [
            "enter the range of natural number5\n",
            " sum of 5 natural numbers is  15\n"
          ]
        }
      ]
    },
    {
      "cell_type": "markdown",
      "source": [
        "5.\tWrite a Python Program to Find Armstrong Number in an Interval?"
      ],
      "metadata": {
        "id": "IO57b8JwI2sx"
      }
    },
    {
      "cell_type": "code",
      "source": [
        "lb= int(input(\"enter lower bound of range\"))\n",
        "ub= int(input(\"enter the upper bound of range\"))\n",
        "list=[]\n",
        "for i in range(lb, ub+1):\n",
        "  sum=0\n",
        "  temp=i\n",
        "  while(i>0):\n",
        "   r= i%10;\n",
        "   sum= sum + (r*r*r)\n",
        "   i= i//10\n",
        "  if(temp==sum):\n",
        "    list.append(temp)\n",
        "print(list)"
      ],
      "metadata": {
        "colab": {
          "base_uri": "https://localhost:8080/"
        },
        "id": "sBLzebaLIVJd",
        "outputId": "7e6c9dae-294b-4a31-f162-7c02facddfba"
      },
      "execution_count": null,
      "outputs": [
        {
          "output_type": "stream",
          "name": "stdout",
          "text": [
            "enter lower bound of range1\n",
            "enter the upper bound of range500\n",
            "[1, 153, 370, 371, 407]\n"
          ]
        }
      ]
    }
  ]
}